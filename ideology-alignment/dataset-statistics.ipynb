{
 "cells": [
  {
   "cell_type": "code",
   "execution_count": 16,
   "id": "c560e0f3",
   "metadata": {},
   "outputs": [],
   "source": [
    "from glob import glob\n",
    "from pathlib import Path\n",
    "from gensim.models.word2vec import Word2Vec\n",
    "import pandas as pd\n",
    "import os\n"
   ]
  },
  {
   "cell_type": "markdown",
   "id": "d960268c",
   "metadata": {},
   "source": [
    "# 1. Understand the data\n",
    "- count each community by tweet number / token numbers\n",
    "- look at the NLTK stop words we use to align the embeddings"
   ]
  },
  {
   "cell_type": "markdown",
   "id": "659b7935",
   "metadata": {},
   "source": [
    "## 1.1 counting statistics"
   ]
  },
  {
   "cell_type": "code",
   "execution_count": 17,
   "id": "97190ea8",
   "metadata": {},
   "outputs": [],
   "source": [
    "def get_tweet_stats():\n",
    "    rows = []\n",
    "    for i in [\"anti_blm_100k\", \"pro_blm_200k\"]:\n",
    "        file_path = \"../data/blm_alm/raw/{}.txt\".format(i)\n",
    "        with open(file_path) as f:\n",
    "            lines = f.readlines()\n",
    "            tokens = []\n",
    "            for line in lines:\n",
    "                tokens.extend(line.split())\n",
    "            rows.append([i, len(lines), len(tokens)])\n",
    "    return rows\n",
    "\n",
    "df_stats = pd.DataFrame(get_tweet_stats(), columns=['id', 'tweet_num', \"token_num\"])"
   ]
  },
  {
   "cell_type": "code",
   "execution_count": 18,
   "id": "1ab66a5d",
   "metadata": {},
   "outputs": [
    {
     "data": {
      "text/html": [
       "<div>\n",
       "<style scoped>\n",
       "    .dataframe tbody tr th:only-of-type {\n",
       "        vertical-align: middle;\n",
       "    }\n",
       "\n",
       "    .dataframe tbody tr th {\n",
       "        vertical-align: top;\n",
       "    }\n",
       "\n",
       "    .dataframe thead th {\n",
       "        text-align: right;\n",
       "    }\n",
       "</style>\n",
       "<table border=\"1\" class=\"dataframe\">\n",
       "  <thead>\n",
       "    <tr style=\"text-align: right;\">\n",
       "      <th></th>\n",
       "      <th>id</th>\n",
       "      <th>tweet_num</th>\n",
       "      <th>token_num</th>\n",
       "    </tr>\n",
       "  </thead>\n",
       "  <tbody>\n",
       "    <tr>\n",
       "      <th>0</th>\n",
       "      <td>anti_blm_100k</td>\n",
       "      <td>106336</td>\n",
       "      <td>2509555</td>\n",
       "    </tr>\n",
       "    <tr>\n",
       "      <th>1</th>\n",
       "      <td>pro_blm_200k</td>\n",
       "      <td>196229</td>\n",
       "      <td>5265143</td>\n",
       "    </tr>\n",
       "  </tbody>\n",
       "</table>\n",
       "</div>"
      ],
      "text/plain": [
       "              id  tweet_num  token_num\n",
       "0  anti_blm_100k     106336    2509555\n",
       "1   pro_blm_200k     196229    5265143"
      ]
     },
     "execution_count": 18,
     "metadata": {},
     "output_type": "execute_result"
    }
   ],
   "source": [
    "df_stats.head()"
   ]
  },
  {
   "cell_type": "code",
   "execution_count": 19,
   "id": "add5fdbc",
   "metadata": {},
   "outputs": [],
   "source": [
    "vocab_list = []\n",
    "for idx in [\"anti_blm_100k\", \"pro_blm_200k\"]:\n",
    "    model_a = Word2Vec.load(\"../data/blm_alm/raw/models/{}.model\".format(idx))\n",
    "    vocab_list.append(len(model_a.wv.vocab))"
   ]
  },
  {
   "cell_type": "code",
   "execution_count": 20,
   "id": "257f71cb",
   "metadata": {},
   "outputs": [
    {
     "name": "stdout",
     "output_type": "stream",
     "text": [
      "min vocab vs. max vocab\n",
      "6153 vs 11437\n"
     ]
    }
   ],
   "source": [
    "print(\"min vocab vs. max vocab\")\n",
    "print(min(vocab_list), 'vs', max(vocab_list))"
   ]
  },
  {
   "cell_type": "code",
   "execution_count": 21,
   "id": "5d4a8801",
   "metadata": {},
   "outputs": [
    {
     "data": {
      "text/plain": [
       "[6153, 11437]"
      ]
     },
     "execution_count": 21,
     "metadata": {},
     "output_type": "execute_result"
    }
   ],
   "source": [
    "vocab_list"
   ]
  },
  {
   "cell_type": "markdown",
   "id": "6e84f545",
   "metadata": {},
   "source": [
    "## 1.2 NLTK stop words"
   ]
  },
  {
   "cell_type": "code",
   "execution_count": 14,
   "id": "8fb06592",
   "metadata": {},
   "outputs": [],
   "source": [
    "import nltk\n",
    "from nltk.corpus import stopwords\n",
    "stop_words = stopwords.words('english')"
   ]
  },
  {
   "cell_type": "code",
   "execution_count": 15,
   "id": "eef0ab6b",
   "metadata": {},
   "outputs": [
    {
     "name": "stdout",
     "output_type": "stream",
     "text": [
      "['i', 'me', 'my', 'myself', 'we', 'our', 'ours', 'ourselves', 'you', \"you're\", \"you've\", \"you'll\", \"you'd\", 'your', 'yours', 'yourself', 'yourselves', 'he', 'him', 'his', 'himself', 'she', \"she's\", 'her', 'hers', 'herself', 'it', \"it's\", 'its', 'itself', 'they', 'them', 'their', 'theirs', 'themselves', 'what', 'which', 'who', 'whom', 'this', 'that', \"that'll\", 'these', 'those', 'am', 'is', 'are', 'was', 'were', 'be', 'been', 'being', 'have', 'has', 'had', 'having', 'do', 'does', 'did', 'doing', 'a', 'an', 'the', 'and', 'but', 'if', 'or', 'because', 'as', 'until', 'while', 'of', 'at', 'by', 'for', 'with', 'about', 'against', 'between', 'into', 'through', 'during', 'before', 'after', 'above', 'below', 'to', 'from', 'up', 'down', 'in', 'out', 'on', 'off', 'over', 'under', 'again', 'further', 'then', 'once', 'here', 'there', 'when', 'where', 'why', 'how', 'all', 'any', 'both', 'each', 'few', 'more', 'most', 'other', 'some', 'such', 'no', 'nor', 'not', 'only', 'own', 'same', 'so', 'than', 'too', 'very', 's', 't', 'can', 'will', 'just', 'don', \"don't\", 'should', \"should've\", 'now', 'd', 'll', 'm', 'o', 're', 've', 'y', 'ain', 'aren', \"aren't\", 'couldn', \"couldn't\", 'didn', \"didn't\", 'doesn', \"doesn't\", 'hadn', \"hadn't\", 'hasn', \"hasn't\", 'haven', \"haven't\", 'isn', \"isn't\", 'ma', 'mightn', \"mightn't\", 'mustn', \"mustn't\", 'needn', \"needn't\", 'shan', \"shan't\", 'shouldn', \"shouldn't\", 'wasn', \"wasn't\", 'weren', \"weren't\", 'won', \"won't\", 'wouldn', \"wouldn't\"]\n"
     ]
    }
   ],
   "source": [
    "print(stop_words)"
   ]
  }
 ],
 "metadata": {
  "kernelspec": {
   "display_name": "Python 3 (ipykernel)",
   "language": "python",
   "name": "python3"
  },
  "language_info": {
   "codemirror_mode": {
    "name": "ipython",
    "version": 3
   },
   "file_extension": ".py",
   "mimetype": "text/x-python",
   "name": "python",
   "nbconvert_exporter": "python",
   "pygments_lexer": "ipython3",
   "version": "3.8.12"
  }
 },
 "nbformat": 4,
 "nbformat_minor": 5
}
