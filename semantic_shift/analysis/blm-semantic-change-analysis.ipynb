{
 "cells": [
  {
   "cell_type": "code",
   "execution_count": 58,
   "id": "b2a5b86e",
   "metadata": {},
   "outputs": [],
   "source": [
    "import numpy as np\n",
    "import pandas as pd\n",
    "import os\n",
    "import pickle\n",
    "import matplotlib.pyplot as plt\n",
    "import seaborn as sns\n",
    "\n",
    "def read_distance_file(cos_distance_file):\n",
    "    word2shift = {}\n",
    "    rows = []\n",
    "    with open(cos_distance_file) as f:\n",
    "        for line in f:\n",
    "            word, shift = line.split()\n",
    "            word, shift = word.strip(), float(shift.strip())\n",
    "            if (shift > 0):\n",
    "                word2shift[word] = shift\n",
    "                rows.append([word, shift])\n",
    "    df = pd.DataFrame(rows, columns=['word', 'change'])\n",
    "    return word2shift, df\n",
    "\n",
    "def calculate_mean_shift(word2shift):\n",
    "    return np.mean([v for k, v in word2shift.items()])\n"
   ]
  },
  {
   "cell_type": "code",
   "execution_count": 59,
   "id": "67b3e695",
   "metadata": {
    "scrolled": true
   },
   "outputs": [],
   "source": [
    "# for num_layer in range(1, 13):\n",
    "\n",
    "num_layer = 1\n",
    "word2shift, df = read_distance_file(\"../../data/blm_alm/raw/results/shared_vocab_last_layer1_anti_blm_100k_pro_blm_200k_cos_dist.csv\")\n"
   ]
  },
  {
   "cell_type": "code",
   "execution_count": 60,
   "id": "eaa347e5",
   "metadata": {},
   "outputs": [
    {
     "data": {
      "text/html": [
       "<div>\n",
       "<style scoped>\n",
       "    .dataframe tbody tr th:only-of-type {\n",
       "        vertical-align: middle;\n",
       "    }\n",
       "\n",
       "    .dataframe tbody tr th {\n",
       "        vertical-align: top;\n",
       "    }\n",
       "\n",
       "    .dataframe thead th {\n",
       "        text-align: right;\n",
       "    }\n",
       "</style>\n",
       "<table border=\"1\" class=\"dataframe\">\n",
       "  <thead>\n",
       "    <tr style=\"text-align: right;\">\n",
       "      <th></th>\n",
       "      <th>word</th>\n",
       "      <th>change</th>\n",
       "    </tr>\n",
       "  </thead>\n",
       "  <tbody>\n",
       "    <tr>\n",
       "      <th>1189</th>\n",
       "      <td>#equalrights</td>\n",
       "      <td>0.385119</td>\n",
       "    </tr>\n",
       "    <tr>\n",
       "      <th>1595</th>\n",
       "      <td>vid</td>\n",
       "      <td>0.287850</td>\n",
       "    </tr>\n",
       "    <tr>\n",
       "      <th>644</th>\n",
       "      <td>#voterid</td>\n",
       "      <td>0.238633</td>\n",
       "    </tr>\n",
       "    <tr>\n",
       "      <th>186</th>\n",
       "      <td>#kag</td>\n",
       "      <td>0.230080</td>\n",
       "    </tr>\n",
       "    <tr>\n",
       "      <th>720</th>\n",
       "      <td>courage</td>\n",
       "      <td>0.221347</td>\n",
       "    </tr>\n",
       "    <tr>\n",
       "      <th>252</th>\n",
       "      <td>#healing</td>\n",
       "      <td>0.213069</td>\n",
       "    </tr>\n",
       "    <tr>\n",
       "      <th>813</th>\n",
       "      <td>#guncontrol</td>\n",
       "      <td>0.204876</td>\n",
       "    </tr>\n",
       "    <tr>\n",
       "      <th>1853</th>\n",
       "      <td>#institutionalracism</td>\n",
       "      <td>0.204025</td>\n",
       "    </tr>\n",
       "    <tr>\n",
       "      <th>1086</th>\n",
       "      <td>honesty</td>\n",
       "      <td>0.203854</td>\n",
       "    </tr>\n",
       "    <tr>\n",
       "      <th>1110</th>\n",
       "      <td>spoken</td>\n",
       "      <td>0.189554</td>\n",
       "    </tr>\n",
       "    <tr>\n",
       "      <th>3802</th>\n",
       "      <td>#demand</td>\n",
       "      <td>0.181532</td>\n",
       "    </tr>\n",
       "    <tr>\n",
       "      <th>4143</th>\n",
       "      <td>presents</td>\n",
       "      <td>0.173940</td>\n",
       "    </tr>\n",
       "    <tr>\n",
       "      <th>3594</th>\n",
       "      <td>stranger</td>\n",
       "      <td>0.166686</td>\n",
       "    </tr>\n",
       "    <tr>\n",
       "      <th>2533</th>\n",
       "      <td>followers</td>\n",
       "      <td>0.164267</td>\n",
       "    </tr>\n",
       "    <tr>\n",
       "      <th>1822</th>\n",
       "      <td>randy</td>\n",
       "      <td>0.160854</td>\n",
       "    </tr>\n",
       "    <tr>\n",
       "      <th>1910</th>\n",
       "      <td>messages</td>\n",
       "      <td>0.159799</td>\n",
       "    </tr>\n",
       "    <tr>\n",
       "      <th>909</th>\n",
       "      <td>mount</td>\n",
       "      <td>0.157576</td>\n",
       "    </tr>\n",
       "    <tr>\n",
       "      <th>3935</th>\n",
       "      <td>firm</td>\n",
       "      <td>0.154448</td>\n",
       "    </tr>\n",
       "    <tr>\n",
       "      <th>3058</th>\n",
       "      <td>followed</td>\n",
       "      <td>0.152869</td>\n",
       "    </tr>\n",
       "    <tr>\n",
       "      <th>4356</th>\n",
       "      <td>las</td>\n",
       "      <td>0.152529</td>\n",
       "    </tr>\n",
       "  </tbody>\n",
       "</table>\n",
       "</div>"
      ],
      "text/plain": [
       "                      word    change\n",
       "1189          #equalrights  0.385119\n",
       "1595                   vid  0.287850\n",
       "644               #voterid  0.238633\n",
       "186                   #kag  0.230080\n",
       "720                courage  0.221347\n",
       "252               #healing  0.213069\n",
       "813            #guncontrol  0.204876\n",
       "1853  #institutionalracism  0.204025\n",
       "1086               honesty  0.203854\n",
       "1110                spoken  0.189554\n",
       "3802               #demand  0.181532\n",
       "4143              presents  0.173940\n",
       "3594              stranger  0.166686\n",
       "2533             followers  0.164267\n",
       "1822                 randy  0.160854\n",
       "1910              messages  0.159799\n",
       "909                  mount  0.157576\n",
       "3935                  firm  0.154448\n",
       "3058              followed  0.152869\n",
       "4356                   las  0.152529"
      ]
     },
     "execution_count": 60,
     "metadata": {},
     "output_type": "execute_result"
    }
   ],
   "source": [
    "df.sort_values(by=\"change\", ascending=False).head(20)"
   ]
  },
  {
   "cell_type": "code",
   "execution_count": 62,
   "id": "f19a78ff",
   "metadata": {},
   "outputs": [
    {
     "data": {
      "text/plain": [
       "Text(0, 0.5, 'Count')"
      ]
     },
     "execution_count": 62,
     "metadata": {},
     "output_type": "execute_result"
    },
    {
     "data": {
      "image/png": "[encoded data removed]",
      "text/plain": [
       "<Figure size 432x288 with 1 Axes>"
      ]
     },
     "metadata": {
      "needs_background": "light"
     },
     "output_type": "display_data"
    }
   ],
   "source": [
    "# seaborn histogram\n",
    "sns.distplot(df['change'], hist=True, kde=False, color = 'green',\n",
    "             hist_kws={'edgecolor':'black'})\n",
    "# Add labels\n",
    "plt.title('Distribution of Change')\n",
    "plt.xlabel('Semantic Semantic Change')\n",
    "plt.ylabel('Count')"
   ]
  },
  {
   "cell_type": "code",
   "execution_count": null,
   "id": "387a231a",
   "metadata": {},
   "outputs": [],
   "source": []
  }
 ],
 "metadata": {
  "kernelspec": {
   "display_name": "Python 3 (ipykernel)",
   "language": "python",
   "name": "python3"
  },
  "language_info": {
   "codemirror_mode": {
    "name": "ipython",
    "version": 3
   },
   "file_extension": ".py",
   "mimetype": "text/x-python",
   "name": "python",
   "nbconvert_exporter": "python",
   "pygments_lexer": "ipython3",
   "version": "3.8.12"
  }
 },
 "nbformat": 4,
 "nbformat_minor": 5
}
